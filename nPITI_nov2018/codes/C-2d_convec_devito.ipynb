{
 "cells": [
  {
   "cell_type": "markdown",
   "metadata": {},
   "source": [
    "# 2-D Linear Convection with Devito"
   ]
  },
  {
   "cell_type": "code",
   "execution_count": null,
   "metadata": {},
   "outputs": [],
   "source": [
    "from devito import Grid, TimeFunction\n",
    "from examples.cfd import plot_field\n",
    "\n",
    "nt = 100 # number of timestpes\n",
    "dt = 0.005\n",
    "c = 1\n",
    "\n",
    "grid = Grid(shape=(81,81), extent=(2.,2.))\n",
    "\n",
    "u = TimeFunction(name='u', grid=grid)\n",
    "for i in range(19,40):\n",
    "   u.data[0][i][19:40] = 2.\n",
    "\n",
    "plot_field(u.data[0])"
   ]
  },
  {
   "cell_type": "code",
   "execution_count": null,
   "metadata": {},
   "outputs": [],
   "source": [
    "from devito import Eq\n",
    "from sympy import init_printing; init_printing(use_latex='mathjax')\n",
    "\n",
    "eq = Eq(u.dt + c*u.dxl + c*u.dyl)\n",
    "eq"
   ]
  },
  {
   "cell_type": "code",
   "execution_count": null,
   "metadata": {},
   "outputs": [],
   "source": [
    "from sympy import solve\n",
    "\n",
    "stencil = solve(eq, u.forward)\n",
    "update = Eq(u.forward, stencil[0])\n",
    "update"
   ]
  },
  {
   "cell_type": "markdown",
   "metadata": {},
   "source": [
    "** Devito operator and solve **\n",
    "\n",
    "We can now create the Devito operator that will generate the C code at runtime. When creating the operator, Devito's two optimization engines will log which performance optimizations have been performed:\n",
    "\n",
    "- **DSE**: The Devito Symbolics Engine will attempt to reduce the number of operations required by the kernel.\n",
    "- **DLE**: The Devito Loop Engine will perform various loop-level optimizations to improve runtime performance."
   ]
  },
  {
   "cell_type": "code",
   "execution_count": null,
   "metadata": {},
   "outputs": [],
   "source": [
    "from devito import Operator, configuration\n",
    "configuration[\"log_level\"] = \"DEBUG\"\n",
    "\n",
    "op = Operator(update)"
   ]
  },
  {
   "cell_type": "code",
   "execution_count": null,
   "metadata": {},
   "outputs": [],
   "source": [
    "op(time=nt+1, dt=dt)"
   ]
  },
  {
   "cell_type": "code",
   "execution_count": null,
   "metadata": {},
   "outputs": [],
   "source": [
    "plot_field(u.data[0])"
   ]
  }
 ],
 "metadata": {
  "kernelspec": {
   "display_name": "Python 3",
   "language": "python",
   "name": "python3"
  },
  "language_info": {
   "codemirror_mode": {
    "name": "ipython",
    "version": 3
   },
   "file_extension": ".py",
   "mimetype": "text/x-python",
   "name": "python",
   "nbconvert_exporter": "python",
   "pygments_lexer": "ipython3",
   "version": "3.6.5"
  }
 },
 "nbformat": 4,
 "nbformat_minor": 2
}
