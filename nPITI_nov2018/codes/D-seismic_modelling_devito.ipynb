{
 "cells": [
  {
   "cell_type": "markdown",
   "metadata": {},
   "source": [
    "# Seismic Modelling with Devito\n",
    "\n",
    "In order to create a numerical model of a seismic survey, we need to solve the wave equation and implement source and receiver interpolation to inject the source and record the seismic wave at sparse point locations in a discretized grid.\n",
    "\n",
    "## Define the physical problem\n",
    "\n",
    "The first step is to define the physical model:\n",
    "\n",
    "- What are the physical dimension of interest\n",
    "- What is the velocity profile of this physical domain\n",
    "\n",
    "We will create a simple velocity model here by hand for demonstration purposes. This model essentially consists of two layers, each with a different velocity: $1.5km/s$ in the top layer and $2.5km/s$ in the bottom layer."
   ]
  },
  {
   "cell_type": "code",
   "execution_count": null,
   "metadata": {},
   "outputs": [],
   "source": [
    "import numpy as np\n",
    "from examples.seismic import Model, plot_velocity\n",
    "\n",
    "# Define a physical size\n",
    "shape = (101, 101)    # Number of grid point (nx, nz)\n",
    "spacing = (10., 10.)  # Grid spacing in m. The domain size is now 1km by 1km\n",
    "origin = (0., 0.)     # What is the location of the top left corner. \n",
    "                      # This is necessary to define the absolute location of the source and receivers\n",
    "\n",
    "# Define a velocity profile. The velocity is in km/s\n",
    "v = np.empty(shape, dtype=np.float32)\n",
    "v[:, :51] = 1.5\n",
    "v[:, 51:] = 2.5\n",
    "\n",
    "# With the velocity and model size defined, we can create the seismic model that\n",
    "# encapsulate this properties. We also define the size of the absorbing layer as 10 grid points\n",
    "model = Model(vp=v, origin=origin, shape=shape, spacing=spacing,\n",
    "              space_order=2, nbpml=10)\n",
    "\n",
    "plot_velocity(model)"
   ]
  },
  {
   "cell_type": "markdown",
   "metadata": {},
   "source": [
    "## Set acquisition geometry"
   ]
  },
  {
   "cell_type": "markdown",
   "metadata": {},
   "source": [
    "To fully define our problem setup we also need to define the source that injects the wave to model and the set of receiver locations at which to sample the wavefield. The source time signature will be modelled using a Ricker wavelet defined as\n",
    "\n",
    "\n",
    "\\begin{equation}\n",
    "q(t) =  (1-2\\pi^2f_0^2(t-\\frac{1}{f_0})^2)e^{-\\pi^2f_0^2(t-\\frac{1}{f_0})}\n",
    "\\end{equation}\n",
    "\n",
    "To fully define the source signature we first need to define the time duration for our model and the timestep size. The `Model` utility provides us with the critical timestep size, so we can fully discretize our model time axis as an array.\n",
    "\n",
    "The source is positioned at a $20m$ depth and at the middle of the $x$ axis ($x_{src}=500m$), with a peak wavelet frequency of $10Hz$."
   ]
  },
  {
   "cell_type": "code",
   "execution_count": null,
   "metadata": {},
   "outputs": [],
   "source": [
    "from examples.seismic import TimeAxis\n",
    "\n",
    "t0 = 0.  # Simulation starts a t=0\n",
    "tn = 1000.  # Simulation last 1 second (1000 ms)\n",
    "dt = model.critical_dt  # Time step from model grid spacing\n",
    "\n",
    "time_range = TimeAxis(start=t0, stop=tn, step=dt)\n",
    "\n",
    "from examples.seismic import RickerSource\n",
    "\n",
    "f0 = 0.010  # Source peak frequency is 10Hz (0.010 kHz)\n",
    "src = RickerSource(name='src', grid=model.grid, f0=f0,\n",
    "                   npoint=1, time_range=time_range)\n",
    "\n",
    "# Position source centrally in all dimensions, then set depth\n",
    "src.coordinates.data[0, :] = np.array(model.domain_size) * .5\n",
    "src.coordinates.data[0, -1] = 20.  # Depth is 20m\n",
    "\n",
    "# We can plot the time signature to see the wavelet\n",
    "src.show()"
   ]
  },
  {
   "cell_type": "markdown",
   "metadata": {},
   "source": [
    "Similarly to our source object, we can now define our receiver geometry as a symbol of type `Receiver`.\n",
    "\n",
    "In this example we will position receivers at the same depth as the source, every $10m$ along the x axis. The `rec.data` property will be initialized, but left empty, as we will compute the receiver readings during the simulation."
   ]
  },
  {
   "cell_type": "code",
   "execution_count": null,
   "metadata": {},
   "outputs": [],
   "source": [
    "from examples.seismic import Receiver\n",
    "\n",
    "# Create symbol for 101 receivers\n",
    "rec = Receiver(name='rec', grid=model.grid, npoint=101, time_range=time_range)\n",
    "\n",
    "# Prescribe even spacing for receivers along the x-axis\n",
    "rec.coordinates.data[:, 0] = np.linspace(0, model.domain_size[0], num=101)\n",
    "rec.coordinates.data[:, 1] = 20.  # Depth is 20m\n",
    "\n",
    "# We can now show the source and receivers within our domain:\n",
    "# Red dot: Source location\n",
    "# Green dots: Receiver locations (every 4th point)\n",
    "plot_velocity(model, source=src.coordinates.data,\n",
    "              receiver=rec.coordinates.data[::4, :])"
   ]
  },
  {
   "cell_type": "markdown",
   "metadata": {},
   "source": [
    "## Build a wave equation solver\n",
    "\n",
    "The acoustic wave equation for the square slowness $m$ defined as $m=\\frac{1}{c^2}$, where $c$ is the speed of sound in the given physical media, and a source $q$ is given by:\n",
    "\n",
    "\\begin{cases} \n",
    "&m \\frac{d^2 u(x,t)}{dt^2} - \\nabla^2 u(x,t) + \\eta \\frac{d u(x,t)}{dt} = q \\ \\text{in } \\Omega \\\\\n",
    "& u(.,0) = 0 \\\\\n",
    "&\\frac{d u(x,t)}{dt}|_{t=0} = 0\n",
    "\\end{cases}\n",
    "\n",
    "with the zero initial conditions to guarantee unicity of the solution, and where $\\eta$ is a damping mask equal to $0$ inside the physical domain and increasing inside the sponge layer\n",
    "\n",
    "We define the discrete Laplacian as the sum of the second order spatial derivatives in the three dimensions with a central difference discretization.\n",
    "\n",
    "Here is Laplace's equation in 2D:\n",
    "\\begin{equation}\n",
    "{\\nabla ^2}u = \\frac{{{\\partial ^2}u}}{{\\partial {x^2}}} + \\frac{{{\\partial ^2}u}}{{\\partial {y^2}}} = 0\n",
    "\\end{equation}\n",
    "\n",
    "The discretized equation is:\n",
    "\\begin{equation}\n",
    "\\frac{p^n_{i+1,j} - 2p^n_{i,j} + p^n_{i-1,j}}{\\Delta x^2} + \n",
    "\\frac{p^n_{i,j+1} - 2p^n_{i,j} + p^n_{i,j-1}}{\\Delta y^2}\n",
    "\\end{equation}\n",
    "\n",
    "solving for $p^n_{i,k}$:\n",
    "\\begin{equation}\n",
    "p^n_{i,j} = \\frac{\\Delta y^2(p^n_{i+1,j}+p^n_{i-1,j}) + \\Delta x^2(p^n_{i,j+1} + p^n_{p,j-1})}{2(\\Delta x^2 + \\Delta y^2)}\n",
    "\\end{equation}\n",
    "\n",
    "It is also known as the **five-point difference operator**, alluding to its stencil.\n",
    "\n",
    "We can fully discretize the wave-equation with the combination of time and space discretizations and obtain a second order in time and $k^{th}$ order in space discrete stencil to update one grid point at position $\\mathbf{x}, \\mathbf{y},\\mathbf{z}$ at time $\\mathbf{t}$, i.e."
   ]
  },
  {
   "cell_type": "code",
   "execution_count": null,
   "metadata": {},
   "outputs": [],
   "source": [
    "from devito import TimeFunction\n",
    "\n",
    "# Define the wavefield with the size of the model and the time dimension\n",
    "u = TimeFunction(name=\"u\", grid=model.grid, time_order=2, space_order=2)\n",
    "\n",
    "from sympy import init_printing; init_printing(use_latex=True)\n",
    "u"
   ]
  },
  {
   "cell_type": "code",
   "execution_count": null,
   "metadata": {},
   "outputs": [],
   "source": [
    "u.dt"
   ]
  },
  {
   "cell_type": "code",
   "execution_count": null,
   "metadata": {},
   "outputs": [],
   "source": [
    "u.dt2"
   ]
  },
  {
   "cell_type": "code",
   "execution_count": null,
   "metadata": {},
   "outputs": [],
   "source": [
    "u.dx"
   ]
  },
  {
   "cell_type": "code",
   "execution_count": null,
   "metadata": {},
   "outputs": [],
   "source": [
    "u.dy2"
   ]
  },
  {
   "cell_type": "code",
   "execution_count": null,
   "metadata": {},
   "outputs": [],
   "source": [
    "u.laplace"
   ]
  },
  {
   "cell_type": "code",
   "execution_count": null,
   "metadata": {},
   "outputs": [],
   "source": [
    "u2 = TimeFunction(name=\"u\", grid=model.grid, time_order=2, space_order=4)\n",
    "u2.dt"
   ]
  },
  {
   "cell_type": "code",
   "execution_count": null,
   "metadata": {},
   "outputs": [],
   "source": [
    "u.dx"
   ]
  },
  {
   "cell_type": "code",
   "execution_count": null,
   "metadata": {},
   "outputs": [],
   "source": [
    "u2.dx"
   ]
  },
  {
   "cell_type": "code",
   "execution_count": null,
   "metadata": {},
   "outputs": [],
   "source": [
    "u3 = TimeFunction(name=\"u\", grid=model.grid, time_order=2, space_order=8)\n",
    "u3.dx"
   ]
  },
  {
   "cell_type": "code",
   "execution_count": null,
   "metadata": {},
   "outputs": [],
   "source": [
    "# We can now write the PDE\n",
    "pde = model.m * u.dt2 - u.laplace + model.damp * u.dt\n",
    "pde"
   ]
  },
  {
   "cell_type": "code",
   "execution_count": null,
   "metadata": {},
   "outputs": [],
   "source": [
    "# This discrete PDE can be solved in a time-marching way updating \n",
    "# u(t+dt) from the previous time step\n",
    "# Devito as a shortcut for u(t+dt) which is u.forward. We can then \n",
    "# rewrite the PDE as a time marching updating equation known as \n",
    "# a stencil using sympy functions\n",
    "from sympy import Eq, solve\n",
    "\n",
    "\n",
    "stencil = Eq(u.forward, solve(pde, u.forward)[0])\n",
    "stencil"
   ]
  },
  {
   "cell_type": "markdown",
   "metadata": {},
   "source": [
    "## Source injection and receiver interpolation"
   ]
  },
  {
   "cell_type": "code",
   "execution_count": null,
   "metadata": {},
   "outputs": [],
   "source": [
    "# Finally we define the source injection and receiver read function to generate the corresponding code\n",
    "src_term = src.inject(field=u.forward, expr=src * dt**2 / model.m, offset=model.nbpml)\n",
    "\n",
    "# Create interpolation expression for receivers\n",
    "rec_term = rec.interpolate(expr=u.forward, offset=model.nbpml)\n",
    "\n",
    "from devito import Operator\n",
    "op = Operator([stencil] + src_term + rec_term, subs=model.spacing_map)\n",
    "op(time=time_range.num-1, dt=model.critical_dt)\n",
    "\n",
    "from examples.seismic import plot_shotrecord\n",
    "tl = list(np.linspace(0, 1000, 11))\n",
    "for ti in tl:\n",
    "    plot_shotrecord(rec.data, model, t0, ti)"
   ]
  }
 ],
 "metadata": {
  "kernelspec": {
   "display_name": "Python 3",
   "language": "python",
   "name": "python3"
  },
  "language_info": {
   "codemirror_mode": {
    "name": "ipython",
    "version": 3
   },
   "file_extension": ".py",
   "mimetype": "text/x-python",
   "name": "python",
   "nbconvert_exporter": "python",
   "pygments_lexer": "ipython3",
   "version": "3.6.5"
  }
 },
 "nbformat": 4,
 "nbformat_minor": 2
}
