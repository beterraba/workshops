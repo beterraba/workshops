{
 "cells": [
  {
   "cell_type": "markdown",
   "metadata": {},
   "source": [
    "# 1-D Convection with Devito"
   ]
  },
  {
   "cell_type": "code",
   "execution_count": 2,
   "metadata": {},
   "outputs": [
    {
     "data": {
      "image/png": "[encoded data removed]",
      "text/plain": [
       "<Figure size 432x288 with 1 Axes>"
      ]
     },
     "metadata": {},
     "output_type": "display_data"
    }
   ],
   "source": [
    "nx = 41\n",
    "nt = 25 \n",
    "dt = 0.025\n",
    "c = 1\n",
    "\n",
    "from devito import Grid\n",
    "grid = Grid(shape=(41), extent=(2.))\n",
    "\n",
    "from devito import TimeFunction\n",
    "u = TimeFunction(name='u', grid=grid)\n",
    "for i in range(9,20):\n",
    "   u.data[0][i] = 2.\n",
    "\n",
    "import matplotlib.pyplot as plt\n",
    "import numpy as np\n",
    "plt.plot(np.linspace(0, 2, nx), u.data[0])\n",
    "plt.show()"
   ]
  },
  {
   "cell_type": "code",
   "execution_count": 3,
   "metadata": {},
   "outputs": [
    {
     "name": "stdout",
     "output_type": "stream",
     "text": [
      "u(t, x)   u(t, x - hₓ)   u(t, x)   u(t + dt, x)    \n",
      "─────── - ──────────── - ─────── + ──────────── = 0\n",
      "   hₓ          hₓ           dt          dt         \n"
     ]
    }
   ],
   "source": [
    "from devito import Eq\n",
    "eq = Eq(u.dt + c*u.dxl)\n",
    "\n",
    "from sympy import pprint\n",
    "pprint(eq)"
   ]
  },
  {
   "cell_type": "code",
   "execution_count": 4,
   "metadata": {},
   "outputs": [
    {
     "data": {
      "text/plain": [
       "-u(t, x)/dt + u(t + dt, x)/dt"
      ]
     },
     "execution_count": 4,
     "metadata": {},
     "output_type": "execute_result"
    }
   ],
   "source": [
    "u.dt"
   ]
  },
  {
   "cell_type": "code",
   "execution_count": 5,
   "metadata": {},
   "outputs": [
    {
     "data": {
      "text/plain": [
       "u(t, x)/h_x - u(t, x - h_x)/h_x"
      ]
     },
     "execution_count": 5,
     "metadata": {},
     "output_type": "execute_result"
    }
   ],
   "source": [
    "u.dxl"
   ]
  },
  {
   "cell_type": "code",
   "execution_count": 6,
   "metadata": {},
   "outputs": [
    {
     "data": {
      "text/plain": [
       "-u(t, x)/h_x + u(t, x + h_x)/h_x"
      ]
     },
     "execution_count": 6,
     "metadata": {},
     "output_type": "execute_result"
    }
   ],
   "source": [
    "u.dxr"
   ]
  },
  {
   "cell_type": "code",
   "execution_count": 7,
   "metadata": {},
   "outputs": [
    {
     "data": {
      "text/plain": [
       "-u(t, x)/h_x + u(t, x + h_x)/h_x"
      ]
     },
     "execution_count": 7,
     "metadata": {},
     "output_type": "execute_result"
    }
   ],
   "source": [
    "u.dx"
   ]
  },
  {
   "cell_type": "code",
   "execution_count": 8,
   "metadata": {},
   "outputs": [
    {
     "data": {
      "text/plain": [
       "u(t + dt, x)"
      ]
     },
     "execution_count": 8,
     "metadata": {},
     "output_type": "execute_result"
    }
   ],
   "source": [
    "u.forward"
   ]
  },
  {
   "cell_type": "code",
   "execution_count": 9,
   "metadata": {},
   "outputs": [
    {
     "data": {
      "text/plain": [
       "u(t - dt, x)"
      ]
     },
     "execution_count": 9,
     "metadata": {},
     "output_type": "execute_result"
    }
   ],
   "source": [
    "u.backward"
   ]
  },
  {
   "cell_type": "code",
   "execution_count": 10,
   "metadata": {},
   "outputs": [
    {
     "data": {
      "text/latex": [
       "$$\\frac{1}{h_{x}} u{\\left (t,x \\right )} - \\frac{1}{h_{x}} u{\\left (t,x - h_{x} \\right )} - \\frac{1}{dt} u{\\left (t,x \\right )} + \\frac{1}{dt} u{\\left (t + dt,x \\right )} = 0$$"
      ],
      "text/plain": [
       "u(t, x)   u(t, x - hₓ)   u(t, x)   u(t + dt, x)    \n",
       "─────── - ──────────── - ─────── + ──────────── = 0\n",
       "   hₓ          hₓ           dt          dt         "
      ]
     },
     "execution_count": 10,
     "metadata": {},
     "output_type": "execute_result"
    }
   ],
   "source": [
    "from sympy import init_printing; init_printing(use_latex='mathjax')\n",
    "eq"
   ]
  },
  {
   "cell_type": "code",
   "execution_count": 11,
   "metadata": {},
   "outputs": [
    {
     "data": {
      "text/latex": [
       "$$\\left [ \\frac{1}{h_{x}} \\left(- dt u{\\left (t,x \\right )} + dt u{\\left (t,x - h_{x} \\right )} + h_{x} u{\\left (t,x \\right )}\\right)\\right ]$$"
      ],
      "text/plain": [
       "⎡-dt⋅u(t, x) + dt⋅u(t, x - hₓ) + hₓ⋅u(t, x)⎤\n",
       "⎢──────────────────────────────────────────⎥\n",
       "⎣                    hₓ                    ⎦"
      ]
     },
     "execution_count": 11,
     "metadata": {},
     "output_type": "execute_result"
    }
   ],
   "source": [
    "from sympy import solve\n",
    "stencil = solve(eq, u.forward)\n",
    "stencil"
   ]
  },
  {
   "cell_type": "code",
   "execution_count": 12,
   "metadata": {},
   "outputs": [
    {
     "data": {
      "text/latex": [
       "$$\\frac{1}{h_{x}} \\left(- dt u{\\left (t,x \\right )} + dt u{\\left (t,x - h_{x} \\right )} + h_{x} u{\\left (t,x \\right )}\\right)$$"
      ],
      "text/plain": [
       "-dt⋅u(t, x) + dt⋅u(t, x - hₓ) + hₓ⋅u(t, x)\n",
       "──────────────────────────────────────────\n",
       "                    hₓ                    "
      ]
     },
     "execution_count": 12,
     "metadata": {},
     "output_type": "execute_result"
    }
   ],
   "source": [
    "stencil[0]"
   ]
  },
  {
   "cell_type": "code",
   "execution_count": 13,
   "metadata": {},
   "outputs": [
    {
     "data": {
      "text/latex": [
       "$$u{\\left (t + dt,x \\right )} = \\frac{1}{h_{x}} \\left(- dt u{\\left (t,x \\right )} + dt u{\\left (t,x - h_{x} \\right )} + h_{x} u{\\left (t,x \\right )}\\right)$$"
      ],
      "text/plain": [
       "               -dt⋅u(t, x) + dt⋅u(t, x - hₓ) + hₓ⋅u(t, x)\n",
       "u(t + dt, x) = ──────────────────────────────────────────\n",
       "                                   hₓ                    "
      ]
     },
     "execution_count": 13,
     "metadata": {},
     "output_type": "execute_result"
    }
   ],
   "source": [
    "update = Eq(u.forward, stencil[0])\n",
    "update"
   ]
  },
  {
   "cell_type": "code",
   "execution_count": 14,
   "metadata": {
    "scrolled": true
   },
   "outputs": [
    {
     "name": "stdout",
     "output_type": "stream",
     "text": [
      "#define _POSIX_C_SOURCE 200809L\n",
      "#include \"stdlib.h\"\n",
      "#include \"math.h\"\n",
      "#include \"sys/time.h\"\n",
      "#include \"xmmintrin.h\"\n",
      "#include \"pmmintrin.h\"\n",
      "\n",
      "struct profiler\n",
      "{\n",
      "  double section0;\n",
      "} ;\n",
      "\n",
      "\n",
      "int Kernel(const float dt, const float h_x, float *restrict u_vec, const int time_M, const int time_m, struct profiler* timers, const int x_M, const int x_m, const int x_size)\n",
      "{\n",
      "  float (*restrict u)[x_size + 1 + 1] __attribute__((aligned(64))) = (float (*)[x_size + 1 + 1]) u_vec;\n",
      "  /* Flush denormal numbers to zero in hardware */\n",
      "  _MM_SET_DENORMALS_ZERO_MODE(_MM_DENORMALS_ZERO_ON);\n",
      "  _MM_SET_FLUSH_ZERO_MODE(_MM_FLUSH_ZERO_ON);\n",
      "  for (int time = time_m, t0 = (time)%(2), t1 = (time + 1)%(2); time <= time_M; time += 1, t0 = (time)%(2), t1 = (time + 1)%(2))\n",
      "  {\n",
      "    struct timeval start_section0, end_section0;\n",
      "    gettimeofday(&start_section0, NULL);\n",
      "    for (int x = x_m; x <= x_M; x += 1)\n",
      "    {\n",
      "      u[t1][x + 1] = (dt*u[t0][x] - dt*u[t0][x + 1] + h_x*u[t0][x + 1])/h_x;\n",
      "    }\n",
      "    gettimeofday(&end_section0, NULL);\n",
      "    timers->section0 += (double)(end_section0.tv_sec-start_section0.tv_sec)+(double)(end_section0.tv_usec-start_section0.tv_usec)/1000000;\n",
      "  }\n",
      "  return 0;\n",
      "}\n",
      "\n"
     ]
    }
   ],
   "source": [
    "from devito import Operator\n",
    "op = Operator(update)\n",
    "print(op)"
   ]
  },
  {
   "cell_type": "markdown",
   "metadata": {},
   "source": [
    "Now we can execute the created operator for a number of timesteps. We specify the number of timesteps to compute with the keyword `time` and the timestep size with `dt`."
   ]
  },
  {
   "cell_type": "code",
   "execution_count": 15,
   "metadata": {},
   "outputs": [
    {
     "name": "stderr",
     "output_type": "stream",
     "text": [
      "Operator `Kernel` run in 0.00 s\n"
     ]
    }
   ],
   "source": [
    "op(time=nt+1, dt=dt)"
   ]
  },
  {
   "cell_type": "code",
   "execution_count": 16,
   "metadata": {},
   "outputs": [
    {
     "data": {
      "image/png": "[encoded data removed]",
      "text/plain": [
       "<Figure size 432x288 with 1 Axes>"
      ]
     },
     "metadata": {},
     "output_type": "display_data"
    }
   ],
   "source": [
    "plt.plot(np.linspace(0, 2, nx), u.data[0])\n",
    "plt.show()"
   ]
  },
  {
   "cell_type": "code",
   "execution_count": null,
   "metadata": {},
   "outputs": [],
   "source": []
  }
 ],
 "metadata": {
  "kernelspec": {
   "display_name": "Python 3",
   "language": "python",
   "name": "python3"
  },
  "language_info": {
   "codemirror_mode": {
    "name": "ipython",
    "version": 3
   },
   "file_extension": ".py",
   "mimetype": "text/x-python",
   "name": "python",
   "nbconvert_exporter": "python",
   "pygments_lexer": "ipython3",
   "version": "3.6.5"
  }
 },
 "nbformat": 4,
 "nbformat_minor": 2
}
