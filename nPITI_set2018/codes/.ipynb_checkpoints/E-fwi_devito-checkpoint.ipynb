{
 "cells": [
  {
   "cell_type": "markdown",
   "metadata": {},
   "source": [
    "# FWI with Devito\n",
    "\n",
    "Seismic inversion relies on two known parameters:\n",
    "\n",
    "Field data - or also called recorded data. This is a shot record corresponding to the true velocity model. In practice this data is acquired as described in the first tutorial. In order to simplify this tutorial we will fake field data by modelling it with the true velocity model.\n",
    "\n",
    "Initial velocity model. This is a velocity model that has been obtained by processing the field data. This model is a rough and very smooth estimate of the velocity as an initial estimate for the inversion. This is a necessary requirement for any optimization (method).\n",
    "\n",
    "## True and smooth velocity models\n",
    "\n",
    "We will use a very simple model domain, consisting of a circle within a 2D domain. We will again use the \"true\" model to generate our synthetic shot data and use a \"smooth\" model as our initial guess.\n"
   ]
  },
  {
   "cell_type": "code",
   "execution_count": null,
   "metadata": {},
   "outputs": [],
   "source": [
    "from examples.seismic import demo_model, plot_velocity\n",
    "\n",
    "# Define true and initial model\n",
    "shape = (101, 101)  # Number of grid point (nx, nz)\n",
    "spacing = (10., 10.)  # Grid spacing in m. The domain size is now 1km by 1km\n",
    "origin = (0., 0.)  # Need origin to define relative source and receiver locations\n",
    "\n",
    "model = demo_model('circle-isotropic', vp=3.0, vp_background=2.5,\n",
    "                    origin=origin, shape=shape, spacing=spacing, nbpml=40)\n",
    "\n",
    "model0 = demo_model('circle-isotropic', vp=2.5, vp_background=2.5,\n",
    "                     origin=origin, shape=shape, spacing=spacing, nbpml=40,\n",
    "                    grid = model.grid)\n",
    "\n",
    "plot_velocity(model)\n",
    "plot_velocity(model0)"
   ]
  },
  {
   "cell_type": "markdown",
   "metadata": {},
   "source": [
    "## Acquisition geometry"
   ]
  },
  {
   "cell_type": "code",
   "execution_count": null,
   "metadata": {},
   "outputs": [],
   "source": [
    "# Define acquisition geometry: source\n",
    "import numpy as np\n",
    "from examples.seismic import TimeAxis, RickerSource, Receiver\n",
    "\n",
    "# Define time discretization according to grid spacing\n",
    "t0 = 0.\n",
    "tn = 1000.  # Simulation lasts 1 second (1000 ms)\n",
    "dt = model.critical_dt  # Time step from model grid spacing\n",
    "time_range = TimeAxis(start=t0, stop=tn, step=dt)\n",
    "\n",
    "f0 = 0.010  # Source peak frequency is 10Hz (0.010 kHz)\n",
    "src = RickerSource(name='src', grid=model.grid, f0=f0, time_range=time_range)"
   ]
  },
  {
   "cell_type": "code",
   "execution_count": null,
   "metadata": {},
   "outputs": [],
   "source": [
    "src.coordinates.data[0, :] = np.array(model.domain_size) * .5\n",
    "src.coordinates.data[0, 0] = 20.  # 20m from the left end\n",
    "\n",
    "# Initialize receivers for synthetic data\n",
    "nreceivers = 101  # Number of receiver locations per shot \n",
    "rec = Receiver(name='rec', grid=model.grid, npoint=nreceivers, \n",
    "               time_range=time_range)\n",
    "rec.coordinates.data[:, 1] = np.linspace(0, model.domain_size[0], num=nreceivers)\n",
    "rec.coordinates.data[:, 0] = 980. # 20m from the right end\n",
    "\n",
    "# Plot acquisition geometry\n",
    "plot_velocity(model, source=src.coordinates.data,\n",
    "               receiver=rec.coordinates.data[::4, :])"
   ]
  },
  {
   "cell_type": "code",
   "execution_count": null,
   "metadata": {},
   "outputs": [],
   "source": [
    "# Prepare the varying source locations sources\n",
    "nshots = 9  # Number of shots to create gradient from\n",
    "source_locations = np.empty((nshots, 2), dtype=np.float32)\n",
    "source_locations[:, 0] = 30.\n",
    "source_locations[:, 1] = np.linspace(0., 1000, num=nshots)\n",
    "\n",
    "plot_velocity(model, source=source_locations, receiver = rec.coordinates.data[::4,:])"
   ]
  },
  {
   "cell_type": "markdown",
   "metadata": {},
   "source": [
    "## FWI gradient operator\n",
    "\n",
    "To compute a single gradient $\\nabla\\Phi_s(\\mathbf{m})$ in our optimization workflow we use `solver.forward` to compute the entire forward wavefield $\\mathbf{u}$, and a similar pre-defined gradient operator to compute the adjoint wavefield $\\mathbf{v}$. The gradient operator provided by our solver utility also computes the correlation between the wavefields, allowing us to:\n",
    "\n",
    "- Simulate the **forward wavefield** with the **background velocity model** to get the **synthetic data** and save the **full wavefield $\\mathbf{u}$**\n",
    "- Compute the **data residual**\n",
    "- **Back-propagate** the data residual and compute on the fly **the gradient contribution** at each time step.\n",
    "\n",
    "This procedure is applied to multiple source positions and summed to obtain a gradient image of the subsurface."
   ]
  },
  {
   "cell_type": "code",
   "execution_count": null,
   "metadata": {},
   "outputs": [],
   "source": [
    "from examples.seismic.acoustic import AcousticWaveSolver\n",
    "\n",
    "solver = AcousticWaveSolver(model, src, rec, space_order=4)\n",
    "\n",
    "# Create FWI gradient kernel # Create \n",
    "from devito import Function, clear_cache, TimeFunction\n",
    "import scipy\n",
    "def fwi_gradient(m_in):    \n",
    "    # Create symbols to hold the gradient and residual\n",
    "    grad = Function(name=\"grad\", grid=model.grid)\n",
    "    residual = Receiver(name='rec', grid=model.grid, time_range=time_range, coordinates=rec.coordinates.data)\n",
    "    objective = 0.\n",
    "    # Creat forward wavefield to reuse to avoid memory overload\n",
    "    u0 = TimeFunction(name='u', grid=model.grid, time_order=2, space_order=4, save=time_range.num)\n",
    "    for i in range(nshots):\n",
    "        # Important: We force previous wavefields to be destroyed,\n",
    "        # so that we may reuse the memory.\n",
    "        clear_cache()\n",
    "        # Update source location\n",
    "        src.coordinates.data[0, :] = source_locations[i, :]\n",
    "        # Generate synthetic data from true model\n",
    "        true_d, _, _ = solver.forward(src=src, m=model.m)\n",
    "        # Compute smooth data and full forward wavefield u0\n",
    "        u0.data.fill(0.)\n",
    "        smooth_d, _, _ = solver.forward(src=src, m=m_in, save=True, u=u0)\n",
    "        # Compute gradient from data residual and update objective function \n",
    "        residual.data[:] = smooth_d.data[:] - true_d.data[:]\n",
    "        objective += .5*np.linalg.norm(residual.data.flatten()**2)\n",
    "        solver.gradient(rec=residual, u=u0, m=m_in, grad=grad)\n",
    "    return objective, grad.data"
   ]
  },
  {
   "cell_type": "markdown",
   "metadata": {},
   "source": [
    "Having defined our FWI gradient procedure we can compute the initial iteration from our starting model. This allows us to visualize the **gradient** alongside the **model perturbation** and the **effect of the *gradient update* on the *model* **."
   ]
  },
  {
   "cell_type": "code",
   "execution_count": null,
   "metadata": {},
   "outputs": [],
   "source": [
    "# Compute gradient of initial model\n",
    "ff, update = fwi_gradient(model0.m)\n",
    "print('Objective value is %f ' % ff)"
   ]
  },
  {
   "cell_type": "code",
   "execution_count": null,
   "metadata": {},
   "outputs": [],
   "source": [
    "#NBVAL_IGNORE_OUTPUT\n",
    "from examples.seismic import plot_image\n",
    "\n",
    "# Plot the FWI gradient\n",
    "plot_image(update, vmin=-1e4, vmax=1e4, cmap=\"jet\")\n",
    "\n",
    "# Plot the difference between the true and initial model.\n",
    "# This is not known in practice as only the initial model is provided.\n",
    "plot_image(model0.m.data - model.m.data, vmin=-1e-1, vmax=1e-1, cmap=\"jet\")\n",
    "\n",
    "# Show what the update does to the model\n",
    "alpha = .05 / np.max(update)\n",
    "plot_image(model0.m.data - alpha*update, vmin=.1, vmax=.2, cmap=\"jet\")"
   ]
  },
  {
   "cell_type": "markdown",
   "metadata": {},
   "source": [
    "With an appropriate scaling factor, we will update the model in the correct direction."
   ]
  },
  {
   "cell_type": "code",
   "execution_count": null,
   "metadata": {},
   "outputs": [],
   "source": [
    "# Define bounding box constraints on the solution.\n",
    "def apply_box_constraint(m):\n",
    "    # Maximum possible 'realistic' velocity is 3.5 km/sec\n",
    "    # Minimum possible 'realistic' velocity is 2 km/sec\n",
    "    return np.clip(m, 1/3.5**2, 1/2**2)"
   ]
  },
  {
   "cell_type": "code",
   "execution_count": null,
   "metadata": {},
   "outputs": [],
   "source": [
    "# Run FWI with gradient descent\n",
    "fwi_iterations = 5  # Number of outer FWI iterations\n",
    "history = np.zeros((fwi_iterations, 1))\n",
    "for i in range(0, fwi_iterations):\n",
    "    # Compute the functional value and gradient for the current model estimate\n",
    "    phi, direction = fwi_gradient(model0.m)\n",
    "    # Store the history of the functional values\n",
    "    history[i] = phi\n",
    "    # Artificial Step length for gradient descent\n",
    "    # In practice this would be replaced by a Linesearch (Wolfe, ...)\n",
    "    # that would guarantee functional decrease Phi(m-alpha g) <= epsilon Phi(m)\n",
    "    # where epsilon is a minimum decrease constant\n",
    "    alpha = .005 / np.max(direction)\n",
    "    # Update the model estimate and inforce minimum/maximum values\n",
    "    model0.m.data[:] = apply_box_constraint(model0.m.data - alpha * direction)\n",
    "    # Log the progress made\n",
    "    print('Objective value is %f at iteration %d' % (phi, i+1))"
   ]
  },
  {
   "cell_type": "code",
   "execution_count": null,
   "metadata": {},
   "outputs": [],
   "source": [
    "# First, update velocity from computed square slowness\n",
    "nbpml = model.nbpml\n",
    "model0.vp = np.sqrt(1. / model0.m.data[nbpml:-nbpml, nbpml:-nbpml])\n",
    "\n",
    "# Plot inverted velocity model\n",
    "plot_velocity(model0)"
   ]
  },
  {
   "cell_type": "code",
   "execution_count": null,
   "metadata": {},
   "outputs": [],
   "source": [
    "import matplotlib.pyplot as plt\n",
    "\n",
    "# Plot objective function decrease\n",
    "plt.figure()\n",
    "plt.loglog(history)\n",
    "plt.xlabel('Iteration number')\n",
    "plt.ylabel('Misift value Phi')\n",
    "plt.title('Convergence')\n",
    "plt.show()"
   ]
  }
 ],
 "metadata": {
  "kernelspec": {
   "display_name": "Python 3",
   "language": "python",
   "name": "python3"
  },
  "language_info": {
   "codemirror_mode": {
    "name": "ipython",
    "version": 3
   },
   "file_extension": ".py",
   "mimetype": "text/x-python",
   "name": "python",
   "nbconvert_exporter": "python",
   "pygments_lexer": "ipython3",
   "version": "3.6.5"
  }
 },
 "nbformat": 4,
 "nbformat_minor": 2
}
