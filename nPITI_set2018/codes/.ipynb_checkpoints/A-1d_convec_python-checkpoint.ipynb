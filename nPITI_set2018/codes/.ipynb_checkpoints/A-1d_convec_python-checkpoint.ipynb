{
 "cells": [
  {
   "cell_type": "markdown",
   "metadata": {},
   "source": [
    "# 1-D Convection with pure Python"
   ]
  },
  {
   "cell_type": "code",
   "execution_count": null,
   "metadata": {},
   "outputs": [],
   "source": [
    "import numpy                    #here we load numpy\n",
    "import matplotlib.pyplot as plt\n",
    "\n",
    "nx = 41 \n",
    "dx = 2 / (nx-1)\n",
    "nt = 25          #nt is the number of timesteps we want to calculate\n",
    "dt = .025        #dt is the amount of time each timestep covers (delta t)\n",
    "\n",
    "un = numpy.ones(nx)    \n",
    "un[int(.5 / dx):int(1 / dx + 1)] = 2  #setting u = 2 between 0.5 and 1 as per our I.C.s\n",
    "plt.plot(numpy.linspace(0, 2, nx), un)\n",
    "plt.show()\n",
    "\n",
    "u = numpy.ones(nx)    #initialize a temporary array\n",
    "\n",
    "for n in range(nt):   #loop for values of n from 0 to nt, so it will run nt times\n",
    "    u = un.copy()     ##copy the existing values of u into un\n",
    "    for i in range(1, nx): ## what'd happen if it was range(nx)?\n",
    "        un[i] = u[i] - dt / dx * (u[i] - u[i-1])\n",
    "\n",
    "plt.plot(numpy.linspace(0, 2, nx), u.data)\n",
    "plt.show()"
   ]
  }
 ],
 "metadata": {
  "kernelspec": {
   "display_name": "Python 3",
   "language": "python",
   "name": "python3"
  },
  "language_info": {
   "codemirror_mode": {
    "name": "ipython",
    "version": 3
   },
   "file_extension": ".py",
   "mimetype": "text/x-python",
   "name": "python",
   "nbconvert_exporter": "python",
   "pygments_lexer": "ipython3",
   "version": "3.6.5"
  }
 },
 "nbformat": 4,
 "nbformat_minor": 2
}
